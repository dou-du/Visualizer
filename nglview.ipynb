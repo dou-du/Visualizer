{
 "cells": [
  {
   "cell_type": "markdown",
   "metadata": {},
   "source": [
    "# Nglview"
   ]
  },
  {
   "cell_type": "code",
   "execution_count": 106,
   "metadata": {},
   "outputs": [],
   "source": [
    "import nglview as nv\n",
    "from ase.io import read, write\n",
    "from ipywidgets import Output, VBox\n",
    "\n",
    "out = Output(layout={'border': '1px solid black'})"
   ]
  },
  {
   "cell_type": "code",
   "execution_count": 107,
   "metadata": {},
   "outputs": [],
   "source": [
    "aa = read(\"./struct/Remdesivir.xyz\");"
   ]
  },
  {
   "cell_type": "markdown",
   "metadata": {},
   "source": [
    "## Define a picked callback function and show molecules"
   ]
  },
  {
   "cell_type": "code",
   "execution_count": 108,
   "metadata": {},
   "outputs": [
    {
     "data": {
      "application/vnd.jupyter.widget-view+json": {
       "model_id": "fc68e97beccb4d5eaa2e074fa5ecaeb5",
       "version_major": 2,
       "version_minor": 0
      },
      "text/plain": [
       "VBox(children=(NGLWidget(), Output(layout=Layout(border='1px solid black'))))"
      ]
     },
     "metadata": {},
     "output_type": "display_data"
    }
   ],
   "source": [
    "# Define a Callback function for picked, However, it only works in Jupyter notebook. \n",
    "def on_picked_change(b):\n",
    "    with out:\n",
    "        try:\n",
    "            print(b['new']['atom1']['index'])\n",
    "        except:\n",
    "            print()\n",
    "        \n",
    "\n",
    "view = nv.show_ase(aa)\n",
    "view.add_representation('unitcell')\n",
    "display(VBox([view, out]))"
   ]
  },
  {
   "cell_type": "markdown",
   "metadata": {},
   "source": [
    "## Atom color and spacefill "
   ]
  },
  {
   "cell_type": "code",
   "execution_count": 109,
   "metadata": {},
   "outputs": [
    {
     "data": {
      "application/vnd.jupyter.widget-view+json": {
       "model_id": "9a460e8665d04adcb1459bd0622da13a",
       "version_major": 2,
       "version_minor": 0
      },
      "text/plain": [
       "NGLWidget(n_components=1)"
      ]
     },
     "metadata": {},
     "output_type": "display_data"
    }
   ],
   "source": [
    "#view.remove_spacefill()\n",
    "view.clear()\n",
    "view.add_representation('spacefill', selection='#N', color='blue', radius='1.1')\n",
    "view.add_representation('spacefill', selection='#O', color='red', radius='0.8')\n",
    "view.add_representation('spacefill', selection='#C', color='grey', radius='0.8')\n",
    "\n",
    "view.add_representation(\"label\", \".CA\", color=\"gold\")\n",
    "\n",
    "#add axes, which is in yellow color\n",
    "view.add_axes(selection='1, 2, 3', color='yellow')\n",
    "\n",
    "view"
   ]
  },
  {
   "cell_type": "markdown",
   "metadata": {},
   "source": [
    "## Label the atoms"
   ]
  },
  {
   "cell_type": "code",
   "execution_count": 110,
   "metadata": {},
   "outputs": [
    {
     "data": {
      "application/vnd.jupyter.widget-view+json": {
       "model_id": "cf5b06960f644fb9aeca9454d64b5bac",
       "version_major": 2,
       "version_minor": 0
      },
      "text/plain": [
       "NGLWidget()"
      ]
     },
     "metadata": {},
     "output_type": "display_data"
    }
   ],
   "source": [
    "view.clear()\n",
    "aa = read(\"./struct/POSCAR\");\n",
    "view = nv.show_ase(aa);\n",
    "view.add_ball_and_stick(selection='#Ce', color=\"grey\", opacity=1.0, radius=0.6)\n",
    "view.add_ball_and_stick(selection='#O', color=\"red\", opacity=1.0, radius=0.6)\n",
    "view.add_unitcell()\n",
    "view.add_axes(selection='1, 2, 3', color='yellow')\n",
    "\n",
    "view.parameters = dict(camera_type='perpective',\n",
    "                       background_color='black',\n",
    "                       fog_near=60,\n",
    "                       clip_dist=0)\n",
    "\n",
    "view.observe(on_picked_change, ['picked'])\n",
    "\n",
    "view.add_label(color='black', scale=1.3, labelType='text', \n",
    "              labelText = [i.symbol for i in aa], zOffset=2.0, attachment='middle_center')\n",
    "\n",
    "view"
   ]
  },
  {
   "cell_type": "markdown",
   "metadata": {},
   "source": [
    "# Set the cell, camera perspective and background color"
   ]
  },
  {
   "cell_type": "code",
   "execution_count": 111,
   "metadata": {},
   "outputs": [],
   "source": [
    "aa.set_cell([[40.0, 0.0, 0.0], [0.0, 40.0, 0.0], [0.0, 0.0, 40.0]])\n",
    "aa.center()\n",
    "view.camera='perspective'\n",
    "view.background = 'yellow'"
   ]
  },
  {
   "cell_type": "code",
   "execution_count": 112,
   "metadata": {},
   "outputs": [
    {
     "data": {
      "application/vnd.jupyter.widget-view+json": {
       "model_id": "94ab8a4e86f3498a8b0d53198ae7fb51",
       "version_major": 2,
       "version_minor": 0
      },
      "text/plain": [
       "NGLWidget()"
      ]
     },
     "metadata": {},
     "output_type": "display_data"
    }
   ],
   "source": [
    "view.clear()\n",
    "view = nv.demo()\n",
    "view"
   ]
  },
  {
   "cell_type": "code",
   "execution_count": 113,
   "metadata": {},
   "outputs": [],
   "source": [
    "mat = [0.6 -0.8, 0, 0,\n",
    "       0.8, 0.6, 0, 0,\n",
    "         0,   0, 1, 0,\n",
    "         0,   0, 0, 1];\n",
    "\n",
    "\n",
    "view.control.rotate(mat)"
   ]
  },
  {
   "cell_type": "code",
   "execution_count": 114,
   "metadata": {},
   "outputs": [],
   "source": [
    "vector = [1, 0, 0]\n",
    "view.control.translate(vector)"
   ]
  },
  {
   "cell_type": "code",
   "execution_count": 115,
   "metadata": {},
   "outputs": [],
   "source": [
    "view.control.zoom(0.5)"
   ]
  },
  {
   "cell_type": "code",
   "execution_count": 116,
   "metadata": {},
   "outputs": [],
   "source": [
    "view.control.spin(vector, 0.1)"
   ]
  },
  {
   "cell_type": "code",
   "execution_count": 117,
   "metadata": {},
   "outputs": [],
   "source": [
    "view.camera = 'perspective'"
   ]
  },
  {
   "cell_type": "code",
   "execution_count": 118,
   "metadata": {},
   "outputs": [
    {
     "data": {
      "application/vnd.jupyter.widget-view+json": {
       "model_id": "97925a93da3841b8b07b0ee28bea51e5",
       "version_major": 2,
       "version_minor": 0
      },
      "text/plain": [
       "NGLWidget()"
      ]
     },
     "metadata": {},
     "output_type": "display_data"
    }
   ],
   "source": [
    "aa = read(\"./H2O/CONTCAR\");\n",
    "view = nv.show_ase(aa);\n",
    "view.add_component('./H2O/CHGCAR.cube');\n",
    "view.clear()\n",
    "view.add_unitcell();\n",
    "view.component_0.add_surface(color='blue', isolevelType=\"value\", isovalue=0.9)\n",
    "view"
   ]
  }
 ],
 "metadata": {
  "kernelspec": {
   "display_name": "Python 3",
   "language": "python",
   "name": "python3"
  },
  "language_info": {
   "codemirror_mode": {
    "name": "ipython",
    "version": 3
   },
   "file_extension": ".py",
   "mimetype": "text/x-python",
   "name": "python",
   "nbconvert_exporter": "python",
   "pygments_lexer": "ipython3",
   "version": "3.7.6"
  }
 },
 "nbformat": 4,
 "nbformat_minor": 4
}
