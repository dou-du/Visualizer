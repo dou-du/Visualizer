{
 "cells": [
  {
   "cell_type": "markdown",
   "metadata": {},
   "source": [
    "# Nglview"
   ]
  },
  {
   "cell_type": "code",
   "execution_count": 36,
   "metadata": {},
   "outputs": [],
   "source": [
    "import nglview as nv\n",
    "from ase.io import read, write"
   ]
  },
  {
   "cell_type": "code",
   "execution_count": 37,
   "metadata": {},
   "outputs": [],
   "source": [
    "aa = read(\"CONTCAR\");"
   ]
  },
  {
   "cell_type": "code",
   "execution_count": 38,
   "metadata": {},
   "outputs": [
    {
     "data": {
      "application/vnd.jupyter.widget-view+json": {
       "model_id": "a143eb50c644488bb7f5cce58c9fb67e",
       "version_major": 2,
       "version_minor": 0
      },
      "text/plain": [
       "NGLWidget()"
      ]
     },
     "metadata": {},
     "output_type": "display_data"
    }
   ],
   "source": [
    "def on_picked_change(b):\n",
    "    try:\n",
    "        print(b['new']['atom1']['index'])\n",
    "    except:\n",
    "        print()\n",
    "        \n",
    "\n",
    "view = nv.show_ase(aa)\n",
    "view.add_representation('unitcell')\n",
    "\n",
    "view.remove_spacefill()\n",
    "view.add_representation('spacefill', selection='#Ce', color='grey', radius='1.1')\n",
    "view.add_representation('spacefill', selection='#O', color='blue', radius='0.8')\n",
    "\n",
    "view.add_representation(\"label\", \".CA\", color=\"gold\")\n",
    "\n",
    "view.add_axes(selection='1, 2, 3', color='yellow')\n",
    "\n",
    "view.clear()\n",
    "view.add_ball_and_stick(selection='#Ce', color=\"grey\", opacity=1.0, radius=0.6)\n",
    "view.add_ball_and_stick(selection='#O', color=\"red\", opacity=1.0, radius=0.6)\n",
    "view.add_unitcell()\n",
    "view.add_axes(selection='1, 2, 3', color='yellow')\n",
    "\n",
    "view.parameters = dict(camera_type='perpective',\n",
    "                       background_color='black',\n",
    "                       fog_near=60,\n",
    "                       clip_dist=0)\n",
    "\n",
    "view.observe(on_picked_change, ['picked'])\n",
    "\n",
    "view.add_label(color='black', scale=1.3, labelType='text', \n",
    "              labelText = [i.symbol for i in aa], zOffset=2.0, attachment='middle_center')\n",
    "\n",
    "view"
   ]
  },
  {
   "cell_type": "code",
   "execution_count": 39,
   "metadata": {},
   "outputs": [
    {
     "data": {
      "application/vnd.jupyter.widget-view+json": {
       "model_id": "a143eb50c644488bb7f5cce58c9fb67e",
       "version_major": 2,
       "version_minor": 0
      },
      "text/plain": [
       "NGLWidget(n_components=1)"
      ]
     },
     "metadata": {},
     "output_type": "display_data"
    }
   ],
   "source": [
    "aa.set_cell([[25.0, 0.0, 0.0], [0.0, 24.0, 0.0], [0.0, 0.0, 24.0]])\n",
    "aa.center()\n",
    "view.cameraera='perspective'\n",
    "view"
   ]
  },
  {
   "cell_type": "code",
   "execution_count": 40,
   "metadata": {},
   "outputs": [],
   "source": [
    "# view = nv.demo()\n",
    "\n",
    "mat = [11, 12, 13, 14,\n",
    "21, 22, 23, 24,\n",
    "31, 32, 33, 34,\n",
    "41, 42, 43, 44]\n",
    "\n",
    "vector = [0, 1, 2]\n",
    "\n",
    "view.control.align(mat)\n",
    "view.control.rotate(mat)\n",
    "view.control.translate(vector)\n",
    "view.control.apply_matrix(mat)\n",
    "view.control.center(vector)\n",
    "view.control.orient(mat)\n",
    "view.control.zoom(0.3)\n",
    "view.control.rotate(mat)\n",
    "view.control.spin(vector, 0.1)"
   ]
  },
  {
   "cell_type": "code",
   "execution_count": 41,
   "metadata": {},
   "outputs": [
    {
     "data": {
      "application/vnd.jupyter.widget-view+json": {
       "model_id": "2b477ed3a70646d4b0533f924bc28dcc",
       "version_major": 2,
       "version_minor": 0
      },
      "text/plain": [
       "NGLWidget()"
      ]
     },
     "metadata": {},
     "output_type": "display_data"
    }
   ],
   "source": [
    "view = nv.demo()\n",
    "view.control.orient(mat)\n",
    "view"
   ]
  },
  {
   "cell_type": "code",
   "execution_count": 42,
   "metadata": {},
   "outputs": [
    {
     "data": {
      "text/plain": [
       "'orthographic'"
      ]
     },
     "execution_count": 42,
     "metadata": {},
     "output_type": "execute_result"
    }
   ],
   "source": [
    "view.camera"
   ]
  },
  {
   "cell_type": "code",
   "execution_count": 43,
   "metadata": {},
   "outputs": [],
   "source": [
    "aa = read(\"./H2O/CONTCAR\");"
   ]
  },
  {
   "cell_type": "code",
   "execution_count": 44,
   "metadata": {},
   "outputs": [
    {
     "data": {
      "application/vnd.jupyter.widget-view+json": {
       "model_id": "494b8136309e4e67b8ad80782ef871cd",
       "version_major": 2,
       "version_minor": 0
      },
      "text/plain": [
       "NGLWidget()"
      ]
     },
     "metadata": {},
     "output_type": "display_data"
    }
   ],
   "source": [
    "view = nv.show_ase(aa);\n",
    "view.add_component('./H2O/locpot.cube');\n",
    "view.clear()\n",
    "view.add_unitcell();\n",
    "view.component_0.add_surface(color='blue', isolevelType=\"value\", isovalue=0.9)\n",
    "view"
   ]
  },
  {
   "cell_type": "code",
   "execution_count": null,
   "metadata": {},
   "outputs": [],
   "source": []
  }
 ],
 "metadata": {
  "kernelspec": {
   "display_name": "Python 3",
   "language": "python",
   "name": "python3"
  },
  "language_info": {
   "codemirror_mode": {
    "name": "ipython",
    "version": 3
   },
   "file_extension": ".py",
   "mimetype": "text/x-python",
   "name": "python",
   "nbconvert_exporter": "python",
   "pygments_lexer": "ipython3",
   "version": "3.7.6"
  }
 },
 "nbformat": 4,
 "nbformat_minor": 4
}
